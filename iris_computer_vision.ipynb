{
  "nbformat": 4,
  "nbformat_minor": 0,
  "metadata": {
    "colab": {
      "provenance": [],
      "authorship_tag": "ABX9TyOaTtuH75JG78UOF25pD1P5",
      "include_colab_link": true
    },
    "kernelspec": {
      "name": "python3",
      "display_name": "Python 3"
    },
    "language_info": {
      "name": "python"
    }
  },
  "cells": [
    {
      "cell_type": "markdown",
      "metadata": {
        "id": "view-in-github",
        "colab_type": "text"
      },
      "source": [
        "<a href=\"https://colab.research.google.com/github/denistoo749/Iris-Computer-Vision/blob/main/iris_computer_vision.ipynb\" target=\"_parent\"><img src=\"https://colab.research.google.com/assets/colab-badge.svg\" alt=\"Open In Colab\"/></a>"
      ]
    },
    {
      "cell_type": "markdown",
      "source": [
        "# Iris Computer Vision\n",
        "- Classify Fisher's three classic irises by image\n",
        "\n",
        "**Data**\n",
        "- he dataset presented here provides images for the space species of iris that were chosen by Fisher. Can you classify iris images with computer vision?\n",
        ">https://www.kaggle.com/datasets/jeffheaton/iris-computer-vision"
      ],
      "metadata": {
        "id": "cGdImckXUW1p"
      }
    },
    {
      "cell_type": "code",
      "execution_count": 1,
      "metadata": {
        "id": "Iy-NsmvBSz8t"
      },
      "outputs": [],
      "source": [
        "# !unzip '/content/drive/MyDrive/Iris Computer Vision/archive.zip' -d '/content/drive/MyDrive/Iris Computer Vision/data/'"
      ]
    },
    {
      "cell_type": "code",
      "source": [],
      "metadata": {
        "id": "bjVd-5lIS-Zl"
      },
      "execution_count": null,
      "outputs": []
    }
  ]
}